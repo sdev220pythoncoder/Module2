{
 "cells": [
  {
   "cell_type": "markdown",
   "id": "399d32c5-4ab8-462b-8634-40f6a570cfbf",
   "metadata": {},
   "source": [
    "<h1>4.1 Choose a number between 1 and 10 and assign it to the variable secret. Then, select another number between 1 and 10 and assign it to the variable guess. Next, write the conditional tests (if, else, and elif) to print the string 'too low' if guess is less than secret, 'too high' if greater than secret, and 'just right' if equal to secret.</h1>"
   ]
  },
  {
   "cell_type": "code",
   "execution_count": 66,
   "id": "2e10199f-016e-45b0-b27f-4e65cc2781e3",
   "metadata": {},
   "outputs": [],
   "source": [
    "secret = 2"
   ]
  },
  {
   "cell_type": "code",
   "execution_count": 68,
   "id": "6b8c18bd-d43d-4095-8d28-8745f8833507",
   "metadata": {},
   "outputs": [],
   "source": [
    "guess = 5"
   ]
  },
  {
   "cell_type": "code",
   "execution_count": 70,
   "id": "4c595fb8-ca63-4f13-96d5-d815b9471470",
   "metadata": {},
   "outputs": [],
   "source": [
    "if guess < secret:\n",
    "    print ('too low')"
   ]
  },
  {
   "cell_type": "code",
   "execution_count": 72,
   "id": "48e7ff03-92e3-44f7-96c8-9223198ed633",
   "metadata": {},
   "outputs": [
    {
     "name": "stdout",
     "output_type": "stream",
     "text": [
      "too high\n"
     ]
    }
   ],
   "source": [
    "if guess > secret:\n",
    "    print ('too high')"
   ]
  },
  {
   "cell_type": "code",
   "execution_count": 74,
   "id": "faae7c25-cbb0-4e3e-a90b-d7e3dac85b8b",
   "metadata": {},
   "outputs": [],
   "source": [
    "if guess == secret:\n",
    "    print ('just right')\n",
    "    "
   ]
  },
  {
   "cell_type": "markdown",
   "id": "2b5c3cf5-3ad9-4fdf-92b8-25b602cbdc77",
   "metadata": {},
   "source": [
    "<h1>4.2 Assign True or False to the variables small and green. Write some if/else statements to print which of these matches those choices: cherry, pea, watermelon, pumpkin.</h1>\n"
   ]
  },
  {
   "cell_type": "code",
   "execution_count": 71,
   "id": "2838b3f3-54e9-45c1-bc3e-b8a1015faefa",
   "metadata": {},
   "outputs": [],
   "source": [
    "fooditems = {\n",
    "    \"cherry\": {\"diameter\": 1, \"color\": \"red\"},\n",
    "    \"pea\": {\"diameter\": .5, \"color\": \"green\"},\n",
    "    \"watermelon\": {\"diameter\": 12, \"color\": \"green\"},\n",
    "    \"pumpkin\": {\"diameter\": 14, \"color\": \"orange\"}\n",
    "}"
   ]
  },
  {
   "cell_type": "code",
   "execution_count": 73,
   "id": "cd9f7d62-5631-4e5c-b05b-d107be364aa3",
   "metadata": {},
   "outputs": [
    {
     "name": "stdout",
     "output_type": "stream",
     "text": [
      "You say a cherry is small?\n",
      "well, that is so True  - it's roughtly  1 inches in diameter\n",
      "\n",
      "You think a cherry is green?\n",
      "Well, that is just  False . A cherry is  red  silly!\n",
      "\n",
      "You say a pea is small?\n",
      "well, that is so True  - it's roughtly  0.5 inches in diameter\n",
      "\n",
      "You think a pea is green?\n",
      "well, that is so True\n",
      "\n",
      "You say a watermelon is small?\n",
      "Well, that is just False  - it's roughtly  12 inches in diameter\n",
      "\n",
      "You think a watermelon is green?\n",
      "well, that is so True\n",
      "\n",
      "You say a pumpkin is small?\n",
      "Well, that is just False  - it's roughtly  14 inches in diameter\n",
      "\n",
      "You think a pumpkin is green?\n",
      "Well, that is just  False . A pumpkin is  orange  silly!\n",
      "\n"
     ]
    }
   ],
   "source": [
    "for food, description in fooditems.items():\n",
    "    diameter = description[\"diameter\"]\n",
    "    color = description[\"color\"]\n",
    "    print(f'You say a {food} is small?')\n",
    "    if diameter < 3:\n",
    "        small = True\n",
    "        print(\"well, that is so\",small, \" - it's roughtly \", diameter, \"inches in diameter\")\n",
    "        print(\"\")\n",
    "    else:\n",
    "        small = False\n",
    "        print(\"Well, that is just\",small, \" - it's roughtly \", diameter, \"inches in diameter\")\n",
    "        print(\"\")\n",
    "    print(f'You think a {food} is green?')\n",
    "    if color == \"green\":\n",
    "        green = True\n",
    "        print(\"well, that is so\", green)\n",
    "        print(\"\")\n",
    "    else:\n",
    "        green = False\n",
    "        print('Well, that is just ',green, f'. A {food} is ', color, ' silly!')\n",
    "        print(\"\")\n",
    "\n",
    "    "
   ]
  }
 ],
 "metadata": {
  "kernelspec": {
   "display_name": "Python [conda env:base] *",
   "language": "python",
   "name": "conda-base-py"
  },
  "language_info": {
   "codemirror_mode": {
    "name": "ipython",
    "version": 3
   },
   "file_extension": ".py",
   "mimetype": "text/x-python",
   "name": "python",
   "nbconvert_exporter": "python",
   "pygments_lexer": "ipython3",
   "version": "3.12.7"
  }
 },
 "nbformat": 4,
 "nbformat_minor": 5
}
