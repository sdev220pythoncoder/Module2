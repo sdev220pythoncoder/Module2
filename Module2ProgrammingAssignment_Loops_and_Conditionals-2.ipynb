{
 "cells": [
  {
   "cell_type": "markdown",
   "id": "399d32c5-4ab8-462b-8634-40f6a570cfbf",
   "metadata": {},
   "source": [
    "<h1>4.1 Choose a number between 1 and 10 and assign it to the variable secret. Then, select another number between 1 and 10 and assign it to the variable guess. Next, write the conditional tests (if, else, and elif) to print the string 'too low' if guess is less than secret, 'too high' if greater than secret, and 'just right' if equal to secret.</h1>"
   ]
  },
  {
   "cell_type": "code",
   "execution_count": 66,
   "id": "2e10199f-016e-45b0-b27f-4e65cc2781e3",
   "metadata": {},
   "outputs": [],
   "source": [
    "secret = 2"
   ]
  },
  {
   "cell_type": "code",
   "execution_count": 68,
   "id": "6b8c18bd-d43d-4095-8d28-8745f8833507",
   "metadata": {},
   "outputs": [],
   "source": [
    "guess = 5"
   ]
  },
  {
   "cell_type": "code",
   "execution_count": 70,
   "id": "4c595fb8-ca63-4f13-96d5-d815b9471470",
   "metadata": {},
   "outputs": [],
   "source": [
    "if guess < secret:\n",
    "    print ('too low')"
   ]
  },
  {
   "cell_type": "code",
   "execution_count": 72,
   "id": "48e7ff03-92e3-44f7-96c8-9223198ed633",
   "metadata": {},
   "outputs": [
    {
     "name": "stdout",
     "output_type": "stream",
     "text": [
      "too high\n"
     ]
    }
   ],
   "source": [
    "if guess > secret:\n",
    "    print ('too high')"
   ]
  },
  {
   "cell_type": "code",
   "execution_count": 74,
   "id": "faae7c25-cbb0-4e3e-a90b-d7e3dac85b8b",
   "metadata": {},
   "outputs": [],
   "source": [
    "if guess == secret:\n",
    "    print ('just right')\n",
    "    "
   ]
  },
  {
   "cell_type": "markdown",
   "id": "2b5c3cf5-3ad9-4fdf-92b8-25b602cbdc77",
   "metadata": {},
   "source": [
    "<h1>4.2 Assign True or False to the variables small and green. Write some if/else statements to print which of these matches those choices: cherry, pea, watermelon, pumpkin.</h1>\n"
   ]
  },
  {
   "cell_type": "code",
   "execution_count": 1,
   "id": "2838b3f3-54e9-45c1-bc3e-b8a1015faefa",
   "metadata": {},
   "outputs": [],
   "source": [
    "fooditems = {\n",
    "    \"cherry\": {\"diameter\": 1, \"color\": \"red\"},\n",
    "    \"pea\": {\"diameter\": .5, \"color\": \"green\"},\n",
    "    \"watermelon\": {\"diameter\": 12, \"color\": \"green\"},\n",
    "    \"pumpkin\": {\"diameter\": 14, \"color\": \"orange\"}\n",
    "}"
   ]
  },
  {
   "cell_type": "code",
   "execution_count": 3,
   "id": "cd9f7d62-5631-4e5c-b05b-d107be364aa3",
   "metadata": {},
   "outputs": [
    {
     "name": "stdout",
     "output_type": "stream",
     "text": [
      "You say a cherry is small?\n",
      "well, that is so True  - it's roughtly  1 inches in diameter\n",
      "\n",
      "You think a cherry is green?\n",
      "Well, that is just  False . A cherry is  red !\n",
      "\n",
      "You say a pea is small?\n",
      "well, that is so True  - it's roughtly  0.5 inches in diameter\n",
      "\n",
      "You think a pea is green?\n",
      "well, that is so True\n",
      "\n",
      "You say a watermelon is small?\n",
      "Well, that is just False  - it's roughtly  12 inches in diameter\n",
      "\n",
      "You think a watermelon is green?\n",
      "well, that is so True\n",
      "\n",
      "You say a pumpkin is small?\n",
      "Well, that is just False  - it's roughtly  14 inches in diameter\n",
      "\n",
      "You think a pumpkin is green?\n",
      "Well, that is just  False . A pumpkin is  orange !\n",
      "\n"
     ]
    }
   ],
   "source": [
    "for food, description in fooditems.items():\n",
    "    diameter = description[\"diameter\"]\n",
    "    color = description[\"color\"]\n",
    "    print(f'You say a {food} is small?')\n",
    "    if diameter < 3:\n",
    "        small = True\n",
    "        print(\"well, that is so\",small, \" - it's roughtly \", diameter, \"inches in diameter\")\n",
    "        print(\"\")\n",
    "    else:\n",
    "        small = False\n",
    "        print(\"Well, that is just\",small, \" - it's roughtly \", diameter, \"inches in diameter\")\n",
    "        print(\"\")\n",
    "    print(f'You think a {food} is green?')\n",
    "    if color == \"green\":\n",
    "        green = True\n",
    "        print(\"well, that is so\", green)\n",
    "        print(\"\")\n",
    "    else:\n",
    "        green = False\n",
    "        print('Well, that is just ',green, f'. A {food} is ', color, '!')\n",
    "        print(\"\")\n",
    "\n",
    "    "
   ]
  },
  {
   "cell_type": "markdown",
   "id": "a6b6f84f-3d78-4302-884e-bd6ed3d80661",
   "metadata": {},
   "source": [
    "<h1>6.1 Use a for loop to print the values of the list [3, 2, 1, 0].</h1>"
   ]
  },
  {
   "cell_type": "code",
   "execution_count": 6,
   "id": "94560cae-df5e-426d-864d-a7aca7c6a4cb",
   "metadata": {},
   "outputs": [],
   "source": [
    "thislist = [3,2,1,0]"
   ]
  },
  {
   "cell_type": "code",
   "execution_count": 8,
   "id": "7830e2ca-122e-4f76-bf20-29ad6730db37",
   "metadata": {},
   "outputs": [
    {
     "name": "stdout",
     "output_type": "stream",
     "text": [
      "3\n",
      "2\n",
      "1\n",
      "0\n"
     ]
    }
   ],
   "source": [
    "for value in thislist:\n",
    "    print(value)"
   ]
  },
  {
   "cell_type": "markdown",
   "id": "35090856-e5cd-46af-b3dc-6ac67095122f",
   "metadata": {},
   "source": [
    "<h1>6.2 Assign the value 7 to the variable guess_me, and the value 1 to the variable number. Write a while loop that compares number with guess_me. Print 'too low' if number is less than guess me. If number equals guess_me, print 'found it!' and then exit the loop. If number is greater than guess_me, print 'oops' and then exit the loop. Increment number at the end of the loop.</h1>"
   ]
  },
  {
   "cell_type": "code",
   "execution_count": 17,
   "id": "e096babd-999b-4ca9-b87b-1006eb022b01",
   "metadata": {},
   "outputs": [
    {
     "name": "stdout",
     "output_type": "stream",
     "text": [
      "too low\n",
      "number is only 1\n",
      "too low\n",
      "number is only 2\n",
      "too low\n",
      "number is only 3\n",
      "too low\n",
      "number is only 4\n",
      "too low\n",
      "number is only 5\n",
      "too low\n",
      "number is only 6\n",
      "found it\n",
      "number is now 7\n",
      "oops\n",
      "number is now 8\n",
      "looks like this program is over!\n"
     ]
    }
   ],
   "source": [
    "guess_me = 7\n",
    "number = 1\n",
    "while True:\n",
    "    if number < guess_me :\n",
    "        print('too low')\n",
    "        print(f'number is only {number}')\n",
    "        number +=1\n",
    "    elif number == guess_me:\n",
    "        print('found it')\n",
    "        print(f'number is now {number}')\n",
    "        number +=1\n",
    "        continue\n",
    "    else :\n",
    "        print('oops')\n",
    "        print(f'number is now {number}')\n",
    "        print('looks like this program is over!')\n",
    "        break\n",
    "    \n",
    "\n",
    "\n",
    "    "
   ]
  },
  {
   "cell_type": "markdown",
   "id": "f6539c7c-ed6f-4bbc-8eac-3eb416fe430e",
   "metadata": {},
   "source": [
    "<h1>6.3 Assign the value 5 to the variable guess_me. Use a for loop to iterate a variable called number over range(10). If number is less than guess_me, print 'too low'. If it equals guess_me, print found it! and then break out of the for loop. If number is greater than guess_me, print 'oops' and then exit the loop.</h1>"
   ]
  },
  {
   "cell_type": "code",
   "execution_count": 66,
   "id": "e7ad0ee1-4c2b-404b-b513-c598f3220d5c",
   "metadata": {},
   "outputs": [
    {
     "name": "stdout",
     "output_type": "stream",
     "text": [
      "too low\n",
      "number is 0 \n",
      "\n",
      "too low\n",
      "number is 1 \n",
      "\n",
      "too low\n",
      "number is 2 \n",
      "\n",
      "too low\n",
      "number is 3 \n",
      "\n",
      "too low\n",
      "number is 4 \n",
      "\n",
      "found it!\n",
      "number is 5 \n",
      "\n",
      "oops\n",
      "number is 6\n"
     ]
    }
   ],
   "source": [
    "guess_me = 5\n",
    "for number in range(10):\n",
    "    \n",
    "    if number < guess_me :        \n",
    "        print('too low')\n",
    "        print(f'number is {number} \\n')\n",
    "    elif number == guess_me:\n",
    "        print('found it!')\n",
    "        print(f'number is {number} \\n')\n",
    "        continue\n",
    "    elif number > guess_me :\n",
    "        print('oops')\n",
    "        print(f'number is {number}')  \n",
    "        break"
   ]
  },
  {
   "cell_type": "code",
   "execution_count": null,
   "id": "cab615a7-4b1a-4a71-961e-3bbd8f4cb888",
   "metadata": {},
   "outputs": [],
   "source": []
  }
 ],
 "metadata": {
  "kernelspec": {
   "display_name": "Python [conda env:base] *",
   "language": "python",
   "name": "conda-base-py"
  },
  "language_info": {
   "codemirror_mode": {
    "name": "ipython",
    "version": 3
   },
   "file_extension": ".py",
   "mimetype": "text/x-python",
   "name": "python",
   "nbconvert_exporter": "python",
   "pygments_lexer": "ipython3",
   "version": "3.12.7"
  }
 },
 "nbformat": 4,
 "nbformat_minor": 5
}
